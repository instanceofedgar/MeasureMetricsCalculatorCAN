{
 "cells": [
  {
   "cell_type": "code",
   "execution_count": 20,
   "metadata": {},
   "outputs": [
    {
     "name": "stdout",
     "output_type": "stream",
     "text": [
      "Average Emissions Intensity Reduction (kgCO₂e/ft²): 0.178\n",
      "Average Annual Electricity Carbon Savings (tCO₂e): -3.87\n",
      "Average Annual Natural Gas Carbon Savings (tCO₂e): 94.68\n",
      "Average Annual Carbon Tax Savings: $19,920\n",
      "Average Annual Electricity Cost Savings: $-15,970\n",
      "Average Annual Natural Gas Cost Savings: $19,140\n",
      "Incremental NPV: $20,065\n",
      "Incremental ROI: 5.5%\n",
      "Incremental MAC: $-9/tCO₂e\n"
     ]
    }
   ],
   "source": [
    "from measure_metrics_CAN import *\n",
    "\n",
    "# general inputs\n",
    "present_year = 2024\n",
    "gross_floor_area = 509470\n",
    "gross_floor_area_unit = Units.SQ_FT\n",
    "region = Region.ON\n",
    "electricity_kWh_rate = 0.14 \n",
    "natural_gas_kWh_rate = 0.04\n",
    "utility_rate_reference_year = 2023\n",
    "\n",
    "# financial scalars\n",
    "discount_rate = 0.03\n",
    "consumer_price_index = 0.02\n",
    "electricity_inflation = 0.01\n",
    "natural_gas_inflation = 0.02 # exclusive of carbon tax\n",
    "\n",
    "# measure inputs\n",
    "like_for_like_cost = 0\n",
    "measure_cost = 350000\n",
    "implementation_year = 2025\n",
    "measure_life = 25\n",
    "electricity_kWh_savings = -100000\n",
    "natural_gas_kWh_savings = 520000\n",
    "\n",
    "\n",
    "## calculator\n",
    "measure_metrics = calculate_measure_metrics(\n",
    "    # general inputs\n",
    "    present_year,\n",
    "    gross_floor_area,\n",
    "    gross_floor_area_unit,\n",
    "    region,\n",
    "    electricity_kWh_rate,\n",
    "    natural_gas_kWh_rate,\n",
    "    utility_rate_reference_year,\n",
    "\n",
    "    # financial scalars\n",
    "    discount_rate,\n",
    "    consumer_price_index,\n",
    "    electricity_inflation,\n",
    "    natural_gas_inflation,\n",
    "\n",
    "    # measure inputs\n",
    "    like_for_like_cost,\n",
    "    measure_cost,\n",
    "    implementation_year,\n",
    "    measure_life,\n",
    "    electricity_kWh_savings,\n",
    "    natural_gas_kWh_savings\n",
    ")\n",
    "\n",
    "print_measure_metrics(measure_metrics)"
   ]
  }
 ],
 "metadata": {
  "kernelspec": {
   "display_name": "myenv",
   "language": "python",
   "name": "python3"
  },
  "language_info": {
   "codemirror_mode": {
    "name": "ipython",
    "version": 3
   },
   "file_extension": ".py",
   "mimetype": "text/x-python",
   "name": "python",
   "nbconvert_exporter": "python",
   "pygments_lexer": "ipython3",
   "version": "3.12.6"
  }
 },
 "nbformat": 4,
 "nbformat_minor": 2
}
